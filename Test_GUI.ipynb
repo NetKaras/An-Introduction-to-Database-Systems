{
 "cells": [
  {
   "cell_type": "code",
   "execution_count": 1,
   "metadata": {},
   "outputs": [],
   "source": [
    "import sys\n",
    "from PyQt5 import QtGui, QtWidgets, QtCore"
   ]
  },
  {
   "cell_type": "code",
   "execution_count": 2,
   "metadata": {},
   "outputs": [],
   "source": [
    "class BoxLayout(QtWidgets.QWidget):\n",
    "    def __init__(self, parent=None):\n",
    "        QtWidgets.QWidget.__init__(self, parent)\n",
    " \n",
    "        self.setWindowTitle('box layout')\n",
    "        \n",
    "        one = QtWidgets.QPushButton(\"one\")\n",
    "        two = QtWidgets.QPushButton(\"two\")\n",
    "        vbox = QtWidgets.QVBoxLayout()\n",
    "        \n",
    "        one.clicked.connect(self.showDialog)\n",
    "        self.le = QtWidgets.QLineEdit(self)\n",
    "        two.clicked.connect(self.showDialog)\n",
    "        \n",
    "        vbox.addWidget(one) \n",
    "        vbox.addWidget(two)\n",
    "        vbox.setAlignment(QtCore.Qt.AlignCenter)\n",
    "            \n",
    "        self.setLayout(vbox)\n",
    " \n",
    "        self.resize(640, 480)\n",
    "    \n",
    "    def showDialog(self):\n",
    "\n",
    "        text, ok = QtWidgets.QInputDialog.getText(self, 'Input Dialog',\n",
    "            'Enter something')\n",
    "\n",
    "        if ok:\n",
    "            self.le.setText(str(text))"
   ]
  },
  {
   "cell_type": "code",
   "execution_count": 3,
   "metadata": {},
   "outputs": [],
   "source": [
    "class MainWindow(QtWidgets.QMainWindow):\n",
    "    def __init__(self):\n",
    "        super().__init__()\n",
    "        self.initUI()\n",
    "        \n",
    "        \n",
    "    def initUI(self):\n",
    "        self.central_widget = BoxLayout(self)\n",
    "        \n",
    "        self.resize(640, 480) \n",
    "        self.center()\n",
    "        self.setWindowTitle('Test')\n",
    "        self.setCentralWidget(self.central_widget)\n",
    " \n",
    "    def center(self):\n",
    "        screen = QtWidgets.QDesktopWidget().screenGeometry()\n",
    "        size = self.geometry()\n",
    "        self.move((screen.width() - size.width()) / 2,\n",
    "                  (screen.height() - size.height()) / 2)\n",
    "    \n",
    "    \n",
    "    def closeEvent(self, event):\n",
    "        reply = QtWidgets.QMessageBox.question(self, 'Message',\n",
    "                                           \"Вы действительно хотите выйти?\",\n",
    "                                               QtWidgets.QMessageBox.Yes,\n",
    "                                               QtWidgets.QMessageBox.No)\n",
    " \n",
    "        if reply == QtWidgets.QMessageBox.Yes:\n",
    "            event.accept()\n",
    "        else:\n",
    "            event.ignore()"
   ]
  },
  {
   "cell_type": "code",
   "execution_count": 4,
   "metadata": {},
   "outputs": [
    {
     "name": "stderr",
     "output_type": "stream",
     "text": [
      "<ipython-input-3-56acda03d839>:18: DeprecationWarning: an integer is required (got type float).  Implicit conversion to integers using __int__ is deprecated, and may be removed in a future version of Python.\n",
      "  self.move((screen.width() - size.width()) / 2,\n"
     ]
    },
    {
     "ename": "SystemExit",
     "evalue": "0",
     "output_type": "error",
     "traceback": [
      "An exception has occurred, use %tb to see the full traceback.\n",
      "\u001b[0;31mSystemExit\u001b[0m\u001b[0;31m:\u001b[0m 0\n"
     ]
    },
    {
     "name": "stderr",
     "output_type": "stream",
     "text": [
      "/usr/lib/python3.8/site-packages/IPython/core/interactiveshell.py:3425: UserWarning: To exit: use 'exit', 'quit', or Ctrl-D.\n",
      "  warn(\"To exit: use 'exit', 'quit', or Ctrl-D.\", stacklevel=1)\n"
     ]
    }
   ],
   "source": [
    "app = QtWidgets.QApplication(sys.argv)\n",
    "main = MainWindow()\n",
    "main.show()\n",
    "sys.exit(app.exec_())"
   ]
  },
  {
   "cell_type": "code",
   "execution_count": null,
   "metadata": {},
   "outputs": [],
   "source": [
    "'''Можно использовать для выбора даты'''\n",
    "import sys\n",
    "from PyQt5.QtWidgets import (QWidget, QCalendarWidget,\n",
    "    QLabel, QApplication)\n",
    "from PyQt5.QtCore import QDate\n",
    "\n",
    "\n",
    "class Example3(QWidget):\n",
    "\n",
    "    def __init__(self):\n",
    "        super().__init__()\n",
    "\n",
    "        self.initUI()\n",
    "\n",
    "\n",
    "    def initUI(self):\n",
    "\n",
    "        cal = QCalendarWidget(self)\n",
    "        cal.setGridVisible(True)\n",
    "        cal.move(20, 20)\n",
    "        cal.clicked[QDate].connect(self.showDate)\n",
    "\n",
    "        self.lbl = QLabel(self)\n",
    "        date = cal.selectedDate()\n",
    "        self.lbl.setText(date.toString())\n",
    "        self.lbl.move(130, 260)\n",
    "\n",
    "        self.setGeometry(300, 300, 350, 300)\n",
    "        self.setWindowTitle('Calendar')\n",
    "        self.show()\n",
    "\n",
    "\n",
    "    def showDate(self, date):\n",
    "\n",
    "        self.lbl.setText(date.toString())\n",
    "\n",
    "\n",
    "app = QApplication(sys.argv)\n",
    "ex = Example3()\n",
    "sys.exit(app.exec_())"
   ]
  },
  {
   "cell_type": "code",
   "execution_count": null,
   "metadata": {},
   "outputs": [],
   "source": [
    "'''Думаю это была плохая идея. Возможно стоит попробовать django'''"
   ]
  }
 ],
 "metadata": {
  "kernelspec": {
   "display_name": "Python 3",
   "language": "python",
   "name": "python3"
  },
  "language_info": {
   "codemirror_mode": {
    "name": "ipython",
    "version": 3
   },
   "file_extension": ".py",
   "mimetype": "text/x-python",
   "name": "python",
   "nbconvert_exporter": "python",
   "pygments_lexer": "ipython3",
   "version": "3.8.5"
  }
 },
 "nbformat": 4,
 "nbformat_minor": 4
}
